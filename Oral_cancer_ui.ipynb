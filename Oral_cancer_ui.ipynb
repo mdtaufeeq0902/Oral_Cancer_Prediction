{
 "cells": [
  {
   "cell_type": "code",
   "execution_count": 1,
   "id": "334a3e23",
   "metadata": {},
   "outputs": [],
   "source": [
    "from PyQt5 import QtWidgets,uic,QtCore, QtGui\n",
    "from PyQt5.QtGui import QPixmap\n",
    "import sys\n",
    "import matplotlib.pyplot as pt\n",
    "import os\n",
    "import numpy as np\n",
    "import pandas as pd"
   ]
  },
  {
   "cell_type": "code",
   "execution_count": 2,
   "id": "544bf950",
   "metadata": {},
   "outputs": [],
   "source": [
    "from keras.models import load_model"
   ]
  },
  {
   "cell_type": "code",
   "execution_count": 3,
   "id": "1a720911",
   "metadata": {},
   "outputs": [],
   "source": [
    "model = load_model(\"C:/Users/Ayesha Thabassum/Desktop/ml-project/finalmodel/oral_cancer.h5\",compile=False)"
   ]
  },
  {
   "cell_type": "code",
   "execution_count": 4,
   "id": "dda828ba",
   "metadata": {},
   "outputs": [],
   "source": [
    "import keras.utils as ku\n",
    "def cancerPrediction(path):\n",
    "    # Loading Image\n",
    "    img = ku.load_img(path, target_size=(256,256))\n",
    "    # Normalizing Image\n",
    "    norm_img = ku.img_to_array(img)/255\n",
    "    # Converting Image to Numpy Array\n",
    "    input_arr_img = np.array([norm_img])\n",
    "    imgplot = pt.imshow(img)\n",
    "    # Getting Predictions\n",
    "    pred = (model.predict(input_arr_img) > 0.5).astype(int)[0][0]\n",
    "    # Printing Model Prediction\n",
    "    return pred"
   ]
  },
  {
   "cell_type": "code",
   "execution_count": 5,
   "id": "fc0eead0",
   "metadata": {},
   "outputs": [],
   "source": [
    "def upload():\n",
    "    win.imshow.clear()\n",
    "    file = win.inp.text()\n",
    "    if \"\\\\\" in file:\n",
    "        file.replace('\\\\','/')\n",
    "    img = QPixmap(file)\n",
    "    win.imshow.setPixmap(img)\n",
    "    \n",
    "\n",
    "def getfile():\n",
    "    fileName, _ = QtWidgets.QFileDialog.getOpenFileName(win, 'Single File', QtCore.QDir.rootPath() , '*.jpg')\n",
    "    win.inp.setText(fileName)"
   ]
  },
  {
   "cell_type": "code",
   "execution_count": 6,
   "id": "dc5b648b",
   "metadata": {},
   "outputs": [],
   "source": [
    "def predict_():\n",
    "    file = win.inp.text()\n",
    "    if \"\\\\\" in file:\n",
    "        file.replace('\\\\','/')\n",
    "    res = cancerPrediction(file)\n",
    "    if(res==0):\n",
    "        win.ans.setText(\"Cancer\")\n",
    "    else:\n",
    "        win.ans.setText(\"Not Cancer\")"
   ]
  },
  {
   "cell_type": "code",
   "execution_count": null,
   "id": "078fbdfd",
   "metadata": {},
   "outputs": [],
   "source": []
  },
  {
   "cell_type": "code",
   "execution_count": null,
   "id": "383c649f",
   "metadata": {},
   "outputs": [
    {
     "name": "stdout",
     "output_type": "stream",
     "text": [
      "1/1 [==============================] - 0s 171ms/step\n",
      "1/1 [==============================] - 0s 50ms/step\n"
     ]
    }
   ],
   "source": [
    "qt = QtWidgets.QApplication([])\n",
    "win = uic.loadUi(\"oral_cancer.ui\")\n",
    "win.show()\n",
    "win.upl.clicked.connect(upload)\n",
    "win.brow.clicked.connect(getfile)\n",
    "win.check.clicked.connect(predict_)\n",
    "win.quit.clicked.connect(win.close)\n",
    "sys.exit(qt.exec_())"
   ]
  },
  {
   "cell_type": "code",
   "execution_count": null,
   "id": "989579b3",
   "metadata": {},
   "outputs": [],
   "source": []
  }
 ],
 "metadata": {
  "kernelspec": {
   "display_name": "Python 3 (ipykernel)",
   "language": "python",
   "name": "python3"
  },
  "language_info": {
   "codemirror_mode": {
    "name": "ipython",
    "version": 3
   },
   "file_extension": ".py",
   "mimetype": "text/x-python",
   "name": "python",
   "nbconvert_exporter": "python",
   "pygments_lexer": "ipython3",
   "version": "3.10.11"
  }
 },
 "nbformat": 4,
 "nbformat_minor": 5
}
